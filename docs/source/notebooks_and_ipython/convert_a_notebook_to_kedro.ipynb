{
 "cells": [
  {
   "cell_type": "markdown",
   "id": "e2dbc66a",
   "metadata": {},
   "source": [
    "# Convert a notebook project to Kedro\n",
    "\n",
    "This page describes how to convert your notebook project to use Kedro in increments. \n",
    "\n",
    "It starts with a version of the spaceflights example with does NOT use Kedro that you can run inside a notebook. The example converts portions of the code to use Kedro features while remaining runnable from within a notebook."
   ]
  },
  {
   "cell_type": "markdown",
   "id": "d85737b7",
   "metadata": {},
   "source": [
    "## Spaceflights in a notebook\n",
    "\n",
    "If you are unfamiliar with the spaceflights example, it is used to introduce the basics of Kedro in a tutorial that runs exclusively as a Kedro project, that is, as a set of `.py` files rather than in a notebook. The premise is as follows:\n",
    "\n",
    "_It is 2160, and the space tourism industry is booming. Globally, thousands of space shuttle companies take tourists to the Moon and back. You have been able to source data that lists the amenities offered in each space shuttle, customer reviews, and company information._\n",
    "\n",
    "_Project: You want to construct a model that predicts the price for each trip to the Moon and the corresponding return flight._\n",
    "\n",
    "Run the cells in this section to experiment with the spaceflights example within a notebook. "
   ]
  },
  {
   "cell_type": "code",
   "execution_count": null,
   "id": "7cca8e81-e49c-4c75-b80b-e27b2c61682f",
   "metadata": {},
   "outputs": [],
   "source": [
    "import pandas as pd"
   ]
  },
  {
   "cell_type": "code",
   "execution_count": null,
   "id": "34d2e416",
   "metadata": {},
   "outputs": [],
   "source": [
    "# This code needs the data directory set up and three files downloaded. \n",
    "# Is there a way to do this in code from the notebook to save the reader the manual task?\n",
    "# Either download the file or use an OS data fabricator to make 3 files?\n",
    "\n",
    "companies = pd.read_csv('data/companies.csv')\n",
    "reviews = pd.read_csv('data/reviews.csv')\n",
    "shuttles = pd.read_excel('data/shuttles.xlsx', engine='openpyxl')"
   ]
  },
  {
   "cell_type": "code",
   "execution_count": null,
   "id": "8f3f2ed2",
   "metadata": {},
   "outputs": [],
   "source": [
    "companies.head()"
   ]
  },
  {
   "cell_type": "code",
   "execution_count": null,
   "id": "fe609fb7",
   "metadata": {},
   "outputs": [],
   "source": [
    "reviews.head()"
   ]
  },
  {
   "cell_type": "code",
   "execution_count": null,
   "id": "0a1b7d66",
   "metadata": {},
   "outputs": [],
   "source": [
    "shuttles.head()"
   ]
  },
  {
   "cell_type": "code",
   "execution_count": null,
   "id": "baba1b9e",
   "metadata": {},
   "outputs": [],
   "source": [
    "companies[\"iata_approved\"] = companies[\"iata_approved\"] == \"t\"\n",
    "companies[\"company_rating\"] = companies[\"company_rating\"].str.replace(\"%\", \"\").astype(float)\n",
    "\n",
    "companies.head()"
   ]
  },
  {
   "cell_type": "code",
   "execution_count": null,
   "id": "10df3b2a-826e-4e58-97df-626715077c27",
   "metadata": {},
   "outputs": [],
   "source": [
    "shuttles[\"d_check_complete\"] = shuttles[\"d_check_complete\"] == \"t\"\n",
    "shuttles[\"moon_clearance_complete\"] = shuttles[\"moon_clearance_complete\"] == \"t\"\n",
    "shuttles[\"price\"] = shuttles[\"price\"].str.replace(\"$\", \"\").str.replace(\",\", \"\").astype(float)\n",
    "\n",
    "shuttles.head()"
   ]
  },
  {
   "cell_type": "code",
   "execution_count": null,
   "id": "f28328f8-e78a-4453-82fd-8e3b42d9ec70",
   "metadata": {},
   "outputs": [],
   "source": [
    "rated_shuttles = shuttles.merge(reviews, left_on=\"id\", right_on=\"shuttle_id\")\n",
    "rated_shuttles.head()"
   ]
  },
  {
   "cell_type": "code",
   "execution_count": null,
   "id": "b23c9053-18df-4c2d-ac9a-ea1010e31e69",
   "metadata": {},
   "outputs": [],
   "source": [
    "model_input_table = rated_shuttles.merge(companies, left_on=\"company_id\", right_on=\"id\")\n",
    "model_input_table = model_input_table.dropna()\n",
    "model_input_table.head()"
   ]
  },
  {
   "cell_type": "code",
   "execution_count": null,
   "id": "d7338948",
   "metadata": {},
   "outputs": [],
   "source": [
    "from sklearn.model_selection import train_test_split"
   ]
  },
  {
   "cell_type": "code",
   "execution_count": null,
   "id": "be44b0e1",
   "metadata": {},
   "outputs": [],
   "source": [
    "X = model_input_table[[\n",
    "    \"engines\",\n",
    "    \"passenger_capacity\",\n",
    "    \"crew\",\n",
    "    \"d_check_complete\",\n",
    "    \"moon_clearance_complete\",\n",
    "    \"iata_approved\",\n",
    "    \"company_rating\",\n",
    "    \"review_scores_rating\",\n",
    "]]\n",
    "y = model_input_table[\"price\"]"
   ]
  },
  {
   "cell_type": "code",
   "execution_count": null,
   "id": "c74ed715",
   "metadata": {},
   "outputs": [],
   "source": [
    "X.head()"
   ]
  },
  {
   "cell_type": "code",
   "execution_count": null,
   "id": "a20d5ab0",
   "metadata": {},
   "outputs": [],
   "source": [
    "y.head()"
   ]
  },
  {
   "cell_type": "code",
   "execution_count": null,
   "id": "107b428f",
   "metadata": {},
   "outputs": [],
   "source": [
    "X_train, X_test, y_train, y_test = train_test_split(X, y, test_size=0.3, random_state=3)"
   ]
  },
  {
   "cell_type": "code",
   "execution_count": null,
   "id": "edf51576",
   "metadata": {},
   "outputs": [],
   "source": [
    "len(X_train), len(X_test)"
   ]
  },
  {
   "cell_type": "code",
   "execution_count": null,
   "id": "95e183ec",
   "metadata": {},
   "outputs": [],
   "source": [
    "len(y_train), len(y_test)"
   ]
  },
  {
   "cell_type": "code",
   "execution_count": null,
   "id": "7e982659",
   "metadata": {},
   "outputs": [],
   "source": [
    "from sklearn.linear_model import LinearRegression"
   ]
  },
  {
   "cell_type": "code",
   "execution_count": null,
   "id": "9bd33c88",
   "metadata": {},
   "outputs": [],
   "source": [
    "model = LinearRegression()\n",
    "model"
   ]
  },
  {
   "cell_type": "code",
   "execution_count": null,
   "id": "914c9e8a",
   "metadata": {},
   "outputs": [],
   "source": [
    "model.fit(X_train, y_train)"
   ]
  },
  {
   "cell_type": "code",
   "execution_count": null,
   "id": "0e5d17fb",
   "metadata": {},
   "outputs": [],
   "source": [
    "model.predict(X_test)"
   ]
  },
  {
   "cell_type": "code",
   "execution_count": null,
   "id": "a0499d1d",
   "metadata": {},
   "outputs": [],
   "source": [
    "from sklearn.metrics import r2_score"
   ]
  },
  {
   "cell_type": "code",
   "execution_count": null,
   "id": "cb57dc0e",
   "metadata": {},
   "outputs": [],
   "source": [
    "y_pred = model.predict(X_test)"
   ]
  },
  {
   "cell_type": "code",
   "execution_count": null,
   "id": "a770979d",
   "metadata": {},
   "outputs": [],
   "source": [
    "r2_score(y_test, y_pred)"
   ]
  },
  {
   "cell_type": "markdown",
   "id": "a6a5b8dc",
   "metadata": {},
   "source": [
    "## Use Kedro for data management\n",
    "Even if you’re not ready for a full Kedro project, you can still take advantage of its data handling solution in your existing project from within a notebook. This section shows you how.\n",
    "\n",
    "Kedro’s Data Catalog is a registry of all data sources available for use by the project, and offers a separate place to declare details of the datasets your projects use. Kedro provides [built-in datasets for numerous file types and file systems](https://docs.kedro.org/en/stable/kedro_datasets.html), so you don’t have to write any of the logic for reading or writing data. \n",
    "\n",
    "Kedro offers a range of datasets, including CSV, Excel, Parquet, Feather, HDF5, JSON, Pickle, SQL Tables, SQL Queries, Spark DataFrames and more. They are supported with the APIs of pandas, spark, networkx, matplotlib, yaml and more. It relies on `[fsspec](https://filesystem-spec.readthedocs.io/en/latest/)` to read and save data from a variety of data stores including local file systems, network file systems, cloud object stores, and Hadoop. You can pass arguments in to load and save operations, and use versioning and credentials for data access.\n",
    "\n",
    "To start using the Data Catalog, create a `catalog.yml` in the same directory as your notebook to define datasets that can be used when writing your functions. For example:"
   ]
  },
  {
   "cell_type": "markdown",
   "id": "06a60b69",
   "metadata": {},
   "source": [
    "<!--This code needs the user to create a yaml file with this contents. Is there a piece of code we could offer that creates and writes one for them into the appropriate directory to save the reader the manual task? -->\n",
    "\n",
    "```yml\n",
    "companies:\n",
    "  type: pandas.CSVDataSet\n",
    "  filepath: data/companies.csv\n",
    "\n",
    "reviews:\n",
    "  type: pandas.CSVDataSet\n",
    "  filepath: data/reviews.csv\n",
    "\n",
    "shuttles:\n",
    "  type: pandas.ExcelDataSet\n",
    "  filepath: data/shuttles.xlsx\n",
    "```\n",
    "\n",
    "Then by using Kedro to load the `catalog.yml` file, you can reference the Data Catalog in your Jupyter notebook."
   ]
  },
  {
   "cell_type": "code",
   "execution_count": 49,
   "id": "ce7f8840",
   "metadata": {},
   "outputs": [],
   "source": [
    "# Using Kedro's DataCatalog\n",
    "\n",
    "from kedro.io import DataCatalog\n",
    "\n",
    "import yaml\n",
    "# load the configuration file \n",
    "with open(\"catalog.yml\") as f:\n",
    "    conf_catalog = yaml.safe_load(f)\n",
    "\n",
    "# Create the DataCatalog instance from the configuration\n",
    "catalog = DataCatalog.from_config(conf_catalog)\n",
    "\n",
    "# Load the dataset and print the output\n",
    "companies = catalog.load(\"companies\")\n",
    "reviews = catalog.load(\"reviews\")\n",
    "shuttles = catalog.load(\"shuttles\")"
   ]
  },
  {
   "cell_type": "code",
   "execution_count": 50,
   "id": "df975262",
   "metadata": {},
   "outputs": [
    {
     "data": {
      "text/html": [
       "<div>\n",
       "<style scoped>\n",
       "    .dataframe tbody tr th:only-of-type {\n",
       "        vertical-align: middle;\n",
       "    }\n",
       "\n",
       "    .dataframe tbody tr th {\n",
       "        vertical-align: top;\n",
       "    }\n",
       "\n",
       "    .dataframe thead th {\n",
       "        text-align: right;\n",
       "    }\n",
       "</style>\n",
       "<table border=\"1\" class=\"dataframe\">\n",
       "  <thead>\n",
       "    <tr style=\"text-align: right;\">\n",
       "      <th></th>\n",
       "      <th>id</th>\n",
       "      <th>company_rating</th>\n",
       "      <th>company_location</th>\n",
       "      <th>total_fleet_count</th>\n",
       "      <th>iata_approved</th>\n",
       "    </tr>\n",
       "  </thead>\n",
       "  <tbody>\n",
       "    <tr>\n",
       "      <th>0</th>\n",
       "      <td>35029</td>\n",
       "      <td>100%</td>\n",
       "      <td>Niue</td>\n",
       "      <td>4.0</td>\n",
       "      <td>f</td>\n",
       "    </tr>\n",
       "    <tr>\n",
       "      <th>1</th>\n",
       "      <td>30292</td>\n",
       "      <td>67%</td>\n",
       "      <td>Anguilla</td>\n",
       "      <td>6.0</td>\n",
       "      <td>f</td>\n",
       "    </tr>\n",
       "    <tr>\n",
       "      <th>2</th>\n",
       "      <td>19032</td>\n",
       "      <td>67%</td>\n",
       "      <td>Russian Federation</td>\n",
       "      <td>4.0</td>\n",
       "      <td>f</td>\n",
       "    </tr>\n",
       "    <tr>\n",
       "      <th>3</th>\n",
       "      <td>8238</td>\n",
       "      <td>91%</td>\n",
       "      <td>Barbados</td>\n",
       "      <td>15.0</td>\n",
       "      <td>t</td>\n",
       "    </tr>\n",
       "    <tr>\n",
       "      <th>4</th>\n",
       "      <td>30342</td>\n",
       "      <td>NaN</td>\n",
       "      <td>Sao Tome and Principe</td>\n",
       "      <td>2.0</td>\n",
       "      <td>t</td>\n",
       "    </tr>\n",
       "  </tbody>\n",
       "</table>\n",
       "</div>"
      ],
      "text/plain": [
       "      id company_rating       company_location  total_fleet_count  \\\n",
       "0  35029           100%                   Niue                4.0   \n",
       "1  30292            67%               Anguilla                6.0   \n",
       "2  19032            67%     Russian Federation                4.0   \n",
       "3   8238            91%               Barbados               15.0   \n",
       "4  30342            NaN  Sao Tome and Principe                2.0   \n",
       "\n",
       "  iata_approved  \n",
       "0             f  \n",
       "1             f  \n",
       "2             f  \n",
       "3             t  \n",
       "4             t  "
      ]
     },
     "execution_count": 50,
     "metadata": {},
     "output_type": "execute_result"
    }
   ],
   "source": [
    "companies.head()"
   ]
  },
  {
   "cell_type": "code",
   "execution_count": 51,
   "id": "a9e58e69",
   "metadata": {},
   "outputs": [
    {
     "data": {
      "text/html": [
       "<div>\n",
       "<style scoped>\n",
       "    .dataframe tbody tr th:only-of-type {\n",
       "        vertical-align: middle;\n",
       "    }\n",
       "\n",
       "    .dataframe tbody tr th {\n",
       "        vertical-align: top;\n",
       "    }\n",
       "\n",
       "    .dataframe thead th {\n",
       "        text-align: right;\n",
       "    }\n",
       "</style>\n",
       "<table border=\"1\" class=\"dataframe\">\n",
       "  <thead>\n",
       "    <tr style=\"text-align: right;\">\n",
       "      <th></th>\n",
       "      <th>shuttle_id</th>\n",
       "      <th>review_scores_rating</th>\n",
       "      <th>review_scores_comfort</th>\n",
       "      <th>review_scores_amenities</th>\n",
       "      <th>review_scores_trip</th>\n",
       "      <th>review_scores_crew</th>\n",
       "      <th>review_scores_location</th>\n",
       "      <th>review_scores_price</th>\n",
       "      <th>number_of_reviews</th>\n",
       "      <th>reviews_per_month</th>\n",
       "    </tr>\n",
       "  </thead>\n",
       "  <tbody>\n",
       "    <tr>\n",
       "      <th>0</th>\n",
       "      <td>63561</td>\n",
       "      <td>97.0</td>\n",
       "      <td>10.0</td>\n",
       "      <td>9.0</td>\n",
       "      <td>10.0</td>\n",
       "      <td>10.0</td>\n",
       "      <td>9.0</td>\n",
       "      <td>10.0</td>\n",
       "      <td>133</td>\n",
       "      <td>1.65</td>\n",
       "    </tr>\n",
       "    <tr>\n",
       "      <th>1</th>\n",
       "      <td>36260</td>\n",
       "      <td>90.0</td>\n",
       "      <td>8.0</td>\n",
       "      <td>9.0</td>\n",
       "      <td>10.0</td>\n",
       "      <td>9.0</td>\n",
       "      <td>9.0</td>\n",
       "      <td>9.0</td>\n",
       "      <td>3</td>\n",
       "      <td>0.09</td>\n",
       "    </tr>\n",
       "    <tr>\n",
       "      <th>2</th>\n",
       "      <td>57015</td>\n",
       "      <td>95.0</td>\n",
       "      <td>9.0</td>\n",
       "      <td>10.0</td>\n",
       "      <td>9.0</td>\n",
       "      <td>10.0</td>\n",
       "      <td>9.0</td>\n",
       "      <td>9.0</td>\n",
       "      <td>14</td>\n",
       "      <td>0.14</td>\n",
       "    </tr>\n",
       "    <tr>\n",
       "      <th>3</th>\n",
       "      <td>14035</td>\n",
       "      <td>93.0</td>\n",
       "      <td>10.0</td>\n",
       "      <td>9.0</td>\n",
       "      <td>9.0</td>\n",
       "      <td>9.0</td>\n",
       "      <td>10.0</td>\n",
       "      <td>9.0</td>\n",
       "      <td>39</td>\n",
       "      <td>0.42</td>\n",
       "    </tr>\n",
       "    <tr>\n",
       "      <th>4</th>\n",
       "      <td>10036</td>\n",
       "      <td>98.0</td>\n",
       "      <td>10.0</td>\n",
       "      <td>10.0</td>\n",
       "      <td>10.0</td>\n",
       "      <td>10.0</td>\n",
       "      <td>9.0</td>\n",
       "      <td>9.0</td>\n",
       "      <td>92</td>\n",
       "      <td>0.94</td>\n",
       "    </tr>\n",
       "  </tbody>\n",
       "</table>\n",
       "</div>"
      ],
      "text/plain": [
       "   shuttle_id  review_scores_rating  review_scores_comfort  \\\n",
       "0       63561                  97.0                   10.0   \n",
       "1       36260                  90.0                    8.0   \n",
       "2       57015                  95.0                    9.0   \n",
       "3       14035                  93.0                   10.0   \n",
       "4       10036                  98.0                   10.0   \n",
       "\n",
       "   review_scores_amenities  review_scores_trip  review_scores_crew  \\\n",
       "0                      9.0                10.0                10.0   \n",
       "1                      9.0                10.0                 9.0   \n",
       "2                     10.0                 9.0                10.0   \n",
       "3                      9.0                 9.0                 9.0   \n",
       "4                     10.0                10.0                10.0   \n",
       "\n",
       "   review_scores_location  review_scores_price  number_of_reviews  \\\n",
       "0                     9.0                 10.0                133   \n",
       "1                     9.0                  9.0                  3   \n",
       "2                     9.0                  9.0                 14   \n",
       "3                    10.0                  9.0                 39   \n",
       "4                     9.0                  9.0                 92   \n",
       "\n",
       "   reviews_per_month  \n",
       "0               1.65  \n",
       "1               0.09  \n",
       "2               0.14  \n",
       "3               0.42  \n",
       "4               0.94  "
      ]
     },
     "execution_count": 51,
     "metadata": {},
     "output_type": "execute_result"
    }
   ],
   "source": [
    "reviews.head()"
   ]
  },
  {
   "cell_type": "code",
   "execution_count": 52,
   "id": "ed07d446",
   "metadata": {},
   "outputs": [
    {
     "data": {
      "text/html": [
       "<div>\n",
       "<style scoped>\n",
       "    .dataframe tbody tr th:only-of-type {\n",
       "        vertical-align: middle;\n",
       "    }\n",
       "\n",
       "    .dataframe tbody tr th {\n",
       "        vertical-align: top;\n",
       "    }\n",
       "\n",
       "    .dataframe thead th {\n",
       "        text-align: right;\n",
       "    }\n",
       "</style>\n",
       "<table border=\"1\" class=\"dataframe\">\n",
       "  <thead>\n",
       "    <tr style=\"text-align: right;\">\n",
       "      <th></th>\n",
       "      <th>id</th>\n",
       "      <th>shuttle_location</th>\n",
       "      <th>shuttle_type</th>\n",
       "      <th>engine_type</th>\n",
       "      <th>engine_vendor</th>\n",
       "      <th>engines</th>\n",
       "      <th>passenger_capacity</th>\n",
       "      <th>cancellation_policy</th>\n",
       "      <th>crew</th>\n",
       "      <th>d_check_complete</th>\n",
       "      <th>moon_clearance_complete</th>\n",
       "      <th>price</th>\n",
       "      <th>company_id</th>\n",
       "    </tr>\n",
       "  </thead>\n",
       "  <tbody>\n",
       "    <tr>\n",
       "      <th>0</th>\n",
       "      <td>63561</td>\n",
       "      <td>Niue</td>\n",
       "      <td>Type V5</td>\n",
       "      <td>Quantum</td>\n",
       "      <td>ThetaBase Services</td>\n",
       "      <td>1.0</td>\n",
       "      <td>2</td>\n",
       "      <td>strict</td>\n",
       "      <td>1.0</td>\n",
       "      <td>f</td>\n",
       "      <td>f</td>\n",
       "      <td>$1,325.0</td>\n",
       "      <td>35029</td>\n",
       "    </tr>\n",
       "    <tr>\n",
       "      <th>1</th>\n",
       "      <td>36260</td>\n",
       "      <td>Anguilla</td>\n",
       "      <td>Type V5</td>\n",
       "      <td>Quantum</td>\n",
       "      <td>ThetaBase Services</td>\n",
       "      <td>1.0</td>\n",
       "      <td>2</td>\n",
       "      <td>strict</td>\n",
       "      <td>1.0</td>\n",
       "      <td>t</td>\n",
       "      <td>f</td>\n",
       "      <td>$1,780.0</td>\n",
       "      <td>30292</td>\n",
       "    </tr>\n",
       "    <tr>\n",
       "      <th>2</th>\n",
       "      <td>57015</td>\n",
       "      <td>Russian Federation</td>\n",
       "      <td>Type V5</td>\n",
       "      <td>Quantum</td>\n",
       "      <td>ThetaBase Services</td>\n",
       "      <td>1.0</td>\n",
       "      <td>2</td>\n",
       "      <td>moderate</td>\n",
       "      <td>0.0</td>\n",
       "      <td>f</td>\n",
       "      <td>f</td>\n",
       "      <td>$1,715.0</td>\n",
       "      <td>19032</td>\n",
       "    </tr>\n",
       "    <tr>\n",
       "      <th>3</th>\n",
       "      <td>14035</td>\n",
       "      <td>Barbados</td>\n",
       "      <td>Type V5</td>\n",
       "      <td>Plasma</td>\n",
       "      <td>ThetaBase Services</td>\n",
       "      <td>3.0</td>\n",
       "      <td>6</td>\n",
       "      <td>strict</td>\n",
       "      <td>3.0</td>\n",
       "      <td>f</td>\n",
       "      <td>f</td>\n",
       "      <td>$4,770.0</td>\n",
       "      <td>8238</td>\n",
       "    </tr>\n",
       "    <tr>\n",
       "      <th>4</th>\n",
       "      <td>10036</td>\n",
       "      <td>Sao Tome and Principe</td>\n",
       "      <td>Type V2</td>\n",
       "      <td>Plasma</td>\n",
       "      <td>ThetaBase Services</td>\n",
       "      <td>2.0</td>\n",
       "      <td>4</td>\n",
       "      <td>strict</td>\n",
       "      <td>2.0</td>\n",
       "      <td>f</td>\n",
       "      <td>f</td>\n",
       "      <td>$2,820.0</td>\n",
       "      <td>30342</td>\n",
       "    </tr>\n",
       "  </tbody>\n",
       "</table>\n",
       "</div>"
      ],
      "text/plain": [
       "      id       shuttle_location shuttle_type engine_type       engine_vendor  \\\n",
       "0  63561                   Niue      Type V5     Quantum  ThetaBase Services   \n",
       "1  36260               Anguilla      Type V5     Quantum  ThetaBase Services   \n",
       "2  57015     Russian Federation      Type V5     Quantum  ThetaBase Services   \n",
       "3  14035               Barbados      Type V5      Plasma  ThetaBase Services   \n",
       "4  10036  Sao Tome and Principe      Type V2      Plasma  ThetaBase Services   \n",
       "\n",
       "   engines  passenger_capacity cancellation_policy  crew d_check_complete  \\\n",
       "0      1.0                   2              strict   1.0                f   \n",
       "1      1.0                   2              strict   1.0                t   \n",
       "2      1.0                   2            moderate   0.0                f   \n",
       "3      3.0                   6              strict   3.0                f   \n",
       "4      2.0                   4              strict   2.0                f   \n",
       "\n",
       "  moon_clearance_complete     price  company_id  \n",
       "0                       f  $1,325.0       35029  \n",
       "1                       f  $1,780.0       30292  \n",
       "2                       f  $1,715.0       19032  \n",
       "3                       f  $4,770.0        8238  \n",
       "4                       f  $2,820.0       30342  "
      ]
     },
     "execution_count": 52,
     "metadata": {},
     "output_type": "execute_result"
    }
   ],
   "source": [
    "shuttles.head()"
   ]
  },
  {
   "cell_type": "markdown",
   "id": "ece5ef08",
   "metadata": {},
   "source": [
    "The rest of the spaceflights notebook code from above can now run as previously. "
   ]
  },
  {
   "cell_type": "markdown",
   "id": "84be50bb",
   "metadata": {},
   "source": [
    "## Use Kedro for configuration\n",
    "When writing exploratory code, it’s tempting to hard code values to save time, but it makes code harder to maintain in the longer-term. The example code above calls `sklearn.model_selection.train_test_split()`, passing in a model input table and outputs the test and train datasets. There are hard-code values supplied to `test_size` and `random_state`.\n",
    "\n",
    "```python\n",
    "X_train, X_test, y_train, y_test = train_test_split(X, y, test_size=0.3, random_state=3)\n",
    "```\n",
    "\n",
    "[Good software engineering practice](https://towardsdatascience.com/five-software-engineering-principles-for-collaborative-data-science-ab26667a311) suggests that we extract *‘magic numbers’* into named constants, sometimes defined at the top of a file, or outside in a utility file, storing it in a format such as yaml. \n",
    "\n",
    "```yml\n",
    "# parameters.yml\n",
    "\n",
    "model_options:\n",
    "  test_size: 0.3\n",
    "  random_state: 3\n",
    "```  \n",
    "\n",
    "By loading `parameters.yml`, you can reference the values with the notebook code. \n",
    "\n"
   ]
  }
 ],
 "metadata": {
  "kernelspec": {
   "display_name": "Python 3 (ipykernel)",
   "language": "python",
   "name": "python3"
  },
  "language_info": {
   "codemirror_mode": {
    "name": "ipython",
    "version": 3
   },
   "file_extension": ".py",
   "mimetype": "text/x-python",
   "name": "python",
   "nbconvert_exporter": "python",
   "pygments_lexer": "ipython3",
   "version": "3.8.16"
  }
 },
 "nbformat": 4,
 "nbformat_minor": 5
}
